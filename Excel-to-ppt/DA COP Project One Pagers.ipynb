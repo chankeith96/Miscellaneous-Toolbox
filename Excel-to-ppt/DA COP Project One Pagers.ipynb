{
 "cells": [
  {
   "cell_type": "code",
   "execution_count": null,
   "metadata": {},
   "outputs": [],
   "source": [
    "# Official documentation for python-pptx library: https://python-pptx.readthedocs.io/en/latest/\n",
    "# Python-pptx can create blank PowerPoint files but we want to use a custom-made template to customize with our own content.\n",
    "# There is code written by Chris Moffitt called analyze_ppt.py that takes your custom template and output a marked up template\n",
    "# that helps you understand your template layout.\n",
    "# https://pbpython.com/creating-powerpoint.html"
   ]
  },
  {
   "cell_type": "code",
   "execution_count": null,
   "metadata": {},
   "outputs": [],
   "source": [
    "import pandas as pd\n",
    "import numpy as np\n",
    "from pptx import Presentation\n",
    "from pptx.util import Inches\n",
    "from pptx.util import Pt\n",
    "from pptx.enum.text import PP_ALIGN\n",
    "from pptx.enum.text import MSO_ANCHOR\n",
    "from pptx.dml.color import RGBColor\n",
    "import math\n",
    "import win32com.client as win32\n"
   ]
  },
  {
   "cell_type": "code",
   "execution_count": null,
   "metadata": {},
   "outputs": [],
   "source": [
    "# I think arguments can't have spaces. Is there a way to \n",
    "# use other script to analyze powerpoint template\n",
    "! python analyze_ppt.py DA_COP_Showcase_Onepager.pptx template-markup.ppt"
   ]
  },
  {
   "cell_type": "code",
   "execution_count": null,
   "metadata": {
    "scrolled": true
   },
   "outputs": [],
   "source": [
    "df = pd.read_excel(\"something.xlsx\")"
   ]
  },
  {
   "cell_type": "code",
   "execution_count": null,
   "metadata": {},
   "outputs": [],
   "source": [
    "df.head(10)"
   ]
  },
  {
   "cell_type": "code",
   "execution_count": null,
   "metadata": {},
   "outputs": [],
   "source": [
    "for row in df.index[4:6]:\n",
    "    \n",
    "    #import custom-made template \n",
    "    prs = Presentation('DA_COP_Showcase_Onepager.pptx')\n",
    "\n",
    "    # Add a slide with your custom layout\n",
    "    title_slide_layout = prs.slide_layouts[0]\n",
    "    slide = prs.slides.add_slide(title_slide_layout)\n",
    "\n",
    "    # Add a Title to the slide\n",
    "    title = slide.shapes.title\n",
    "    custom_text = df.iloc[row]['Project Name']\n",
    "    title.text = custom_text\n",
    "\n",
    "    # Insert author name into placeholder 18\n",
    "    placeholder = slide.placeholders[18]\n",
    "    custom_text = df.iloc[row]['Name']\n",
    "    placeholder.text = \"By {0}\".format(custom_text)\n",
    "\n",
    "    # Insert Business problem into placeholder 13\n",
    "    placeholder = slide.placeholders[13]\n",
    "\n",
    "    placeholder.text = \"THIS IS THE BUSINESS PROBLEM\"\n",
    "\n",
    "    # Insert project description into placeholder 14\n",
    "    placeholder = slide.placeholders[14]\n",
    "    custom_text = df.iloc[row]['Project description']\n",
    "    placeholder.text = custom_text\n",
    "\n",
    "    # Insert datasets used into placeholder 15\n",
    "    placeholder = slide.placeholders[15]\n",
    "    custom_text = df.iloc[row]['What data sets are you using?']\n",
    "    placeholder.text = custom_text\n",
    "\n",
    "    # Insert Business problem into placeholder 17\n",
    "    placeholder = slide.placeholders[17]\n",
    "    placeholder.text = \"Project Showcase 2020\"\n",
    "\n",
    "    project_name = df.iloc[row]['Project Name']\n",
    "    prs.save('{0} Showcase One Pager 2020.pptx'.format(project_name))\n",
    "    \n",
    "    "
   ]
  },
  {
   "cell_type": "code",
   "execution_count": null,
   "metadata": {},
   "outputs": [],
   "source": [
    "    outlook = win32.Dispatch('outlook.application')\n",
    "    mail = outlook.CreateItem(0)\n",
    "    mail.To = 'Keith.chan@pepsico.com' #df.iloc[row]['Email']\n",
    "    # mail.CC = \"moreaddresses here\"\n",
    "    # mail.BCC = \"address\"\n",
    "    mail.Subject = 'Showcase one pager'\n",
    "    mail.Body = 'Here is the template for the one pager'\n",
    "\n",
    "    # mail.HTMLBody = '<h2>HTML Message body</h2>' #this field is optional\n",
    "    # # To attach a file to the email (optional):\n",
    "    # attachment  = \"Path to the attachment\"\n",
    "    # mail.Attachments.Add(attachment)\n",
    "\n",
    "#     mail.Send()"
   ]
  },
  {
   "cell_type": "code",
   "execution_count": null,
   "metadata": {},
   "outputs": [],
   "source": []
  }
 ],
 "metadata": {
  "kernelspec": {
   "display_name": "Python 3",
   "language": "python",
   "name": "python3"
  },
  "language_info": {
   "codemirror_mode": {
    "name": "ipython",
    "version": 3
   },
   "file_extension": ".py",
   "mimetype": "text/x-python",
   "name": "python",
   "nbconvert_exporter": "python",
   "pygments_lexer": "ipython3",
   "version": "3.7.4"
  }
 },
 "nbformat": 4,
 "nbformat_minor": 4
}
