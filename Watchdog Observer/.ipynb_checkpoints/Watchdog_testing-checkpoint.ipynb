{
 "cells": [
  {
   "cell_type": "code",
   "execution_count": null,
   "metadata": {},
   "outputs": [],
   "source": [
    "# Code is mostly adapted from: http://thepythoncorner.com/dev/how-to-create-a-watchdog-in-python-to-look-for-filesystem-changes/\n",
    "# But this link is pretty informational too: https://www.geeksforgeeks.org/create-a-watchdog-in-python-to-look-for-filesystem-changes/\n",
    "# This link shows you how to combine both Handler() and Observer() classes into one class if you wanted to: https://blog.magrathealabs.com/filesystem-events-monitoring-with-python-9f5329b651c3\n",
    "# Alternatives to the watchdog module: http://timgolden.me.uk/python/win32_how_do_i/watch_directory_for_changes.html"
   ]
  },
  {
   "cell_type": "code",
   "execution_count": null,
   "metadata": {},
   "outputs": [],
   "source": [
    "import time\n",
    "from watchdog.observers import Observer\n",
    "from watchdog.events import PatternMatchingEventHandler\n",
    "from pathlib import Path\n",
    "import tensorflow as tf"
   ]
  },
  {
   "cell_type": "code",
   "execution_count": null,
   "metadata": {},
   "outputs": [],
   "source": [
    "import numpy as np\n",
    "import pandas as pd\n",
    "from datetime import datetime"
   ]
  },
  {
   "cell_type": "code",
   "execution_count": null,
   "metadata": {},
   "outputs": [],
   "source": [
    "# Function to pre-process the image from image_path \n",
    "def preprocess_image(image_path):\n",
    "    IMG_WIDTH = IMG_HEIGHT = 200\n",
    "    img = tf.io.read_file(image_path)\n",
    "    img = tf.image.decode_jpeg(img, channels=3)\n",
    "    img = tf.image.resize(img, [IMG_WIDTH, IMG_HEIGHT])\n",
    "    img = img/255.0\n",
    "    single_preprocessed_img = (np.expand_dims(img,0))\n",
    "    return single_preprocessed_img"
   ]
  },
  {
   "cell_type": "markdown",
   "metadata": {},
   "source": [
    "# Do I want to create a Handler() and an Observer() class?"
   ]
  },
  {
   "cell_type": "code",
   "execution_count": null,
   "metadata": {},
   "outputs": [],
   "source": [
    "# configure event handler variables\n",
    "patterns = \"*\" # the file patterns we want to handle (in my scenario, I will handle all the files)\n",
    "ignore_patterns = \"\" # the patterns that we don’t want to handle\n",
    "ignore_directories = True # if we want to be notified just for regular files (not for directories) \n",
    "case_sensitive = True\n",
    "\n",
    "# Create the event handler\n",
    "my_event_handler = PatternMatchingEventHandler(patterns, ignore_patterns, ignore_directories, case_sensitive)"
   ]
  },
  {
   "cell_type": "code",
   "execution_count": null,
   "metadata": {},
   "outputs": [],
   "source": [
    "mask_filepaths_queue = []\n",
    "\n",
    "# a function that will be used when a file is created in the directory.\n",
    "def on_created(event):\n",
    "    p = event.src_path # absolute filepath of the file created\n",
    "    print(str(p) + ' added to folder')\n",
    "    mask_filepaths_queue.append(p)\n",
    "    print(str(p) + ' added to queue')\n",
    "    if len(mask_filepaths_queue) >=2 :\n",
    "        print(\"queue full\")\n",
    "        preprocessed_masks = [preprocess_image(x) for x in mask_filepaths_queue]\n",
    "        mask_preds = batch_prediction(preprocessed_masks, model)\n",
    "        print(mask_preds)\n",
    "        write_classification(mask_filepaths_queue, mask_preds)\n",
    "        mask_filepaths_queue.clear()"
   ]
  },
  {
   "cell_type": "code",
   "execution_count": null,
   "metadata": {},
   "outputs": [],
   "source": [
    "# specify to the handler that we want the on_created function to be called when the on_created event is raised\n",
    "my_event_handler.on_created = on_created"
   ]
  },
  {
   "cell_type": "code",
   "execution_count": null,
   "metadata": {},
   "outputs": [],
   "source": [
    "# Create an observer object that will monitor a directory, looking for changes that will be handled by the event handler.\n",
    "path = r\"C:\\Users\\80203607\\git\\kenai2\\Python\\src\\Multiclassification\\Watchdog_testing_folder\" # directory to watch; acquire_mask_folder_filepath()\n",
    "go_recursively = True # a boolean that allow me to catch all the event that occurs even in the sub directories of my current directory. Not applicable in our case\n",
    "my_observer = Observer()\n",
    "my_observer.schedule(my_event_handler, path, recursive=go_recursively)"
   ]
  },
  {
   "cell_type": "code",
   "execution_count": null,
   "metadata": {},
   "outputs": [],
   "source": [
    "# Use This cell only to test importing handler.py, else you can just use all the cells above in the jupyter notebook\n",
    "import handler\n",
    "# Create an observer object that will monitor a directory, looking for changes that will be handled by the event handler.\n",
    "path = r\"C:\\Users\\80203607\\git\\kenai2\\Python\\src\\Multiclassification\\Watchdog_testing_folder\" # directory to watch; acquire_mask_folder_filepath()\n",
    "go_recursively = True # a boolean that allow me to catch all the event that occurs even in the sub directories of my current directory. Not applicable in our case\n",
    "my_observer = Observer()\n",
    "my_observer.schedule(handler.Handler(), path, recursive=go_recursively)"
   ]
  },
  {
   "cell_type": "code",
   "execution_count": null,
   "metadata": {},
   "outputs": [],
   "source": [
    "# start the observer thread\n",
    "my_observer.start()\n",
    "try:\n",
    "    while True:\n",
    "        time.sleep(1)    #What does this sleep do?? \n",
    "except KeyboardInterrupt:\n",
    "    my_observer.stop()\n",
    "my_observer.join()"
   ]
  },
  {
   "cell_type": "code",
   "execution_count": null,
   "metadata": {},
   "outputs": [],
   "source": []
  },
  {
   "cell_type": "code",
   "execution_count": null,
   "metadata": {},
   "outputs": [],
   "source": []
  }
 ],
 "metadata": {
  "kernelspec": {
   "display_name": "tf",
   "language": "python",
   "name": "tf"
  },
  "language_info": {
   "codemirror_mode": {
    "name": "ipython",
    "version": 3
   },
   "file_extension": ".py",
   "mimetype": "text/x-python",
   "name": "python",
   "nbconvert_exporter": "python",
   "pygments_lexer": "ipython3",
   "version": "3.7.7"
  }
 },
 "nbformat": 4,
 "nbformat_minor": 4
}
